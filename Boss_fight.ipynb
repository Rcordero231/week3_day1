{
 "cells": [
  {
   "cell_type": "code",
   "execution_count": null,
   "metadata": {},
   "outputs": [],
   "source": [
    "class Monster:\n",
    "    def _init_(self, health, power, speed):\n",
    "        self.health = hp\n",
    "        self.power = pwr\n",
    "        self.speed = spd\n",
    "    \n",
    "    \n",
    "    def priority:\n",
    "        "
   ]
  }
 ],
 "metadata": {
  "language_info": {
   "name": "python"
  }
 },
 "nbformat": 4,
 "nbformat_minor": 2
}
